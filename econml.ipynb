{
 "cells": [
  {
   "cell_type": "code",
   "execution_count": 1,
   "metadata": {},
   "outputs": [],
   "source": [
    "#this is an example using econml for DML"
   ]
  },
  {
   "cell_type": "code",
   "execution_count": 1,
   "metadata": {},
   "outputs": [],
   "source": [
    "import econml\n",
    "\n",
    "from econml.dml import DMLCateEstimator, LinearDMLCateEstimator,SparseLinearDMLCateEstimator\n",
    "from econml.drlearner import DRLearner \n",
    "\n",
    "\n",
    "import numpy as np\n",
    "from itertools import product\n",
    "from sklearn.linear_model import Lasso, LassoCV, LogisticRegression, LogisticRegressionCV,LinearRegression\n",
    "from sklearn.ensemble import RandomForestRegressor,RandomForestClassifier,AdaBoostClassifier,GradientBoostingClassifier,GradientBoostingRegressor,AdaBoostRegressor\n",
    "from sklearn.dummy import DummyRegressor, DummyClassifier\n",
    "from sklearn.neural_network import MLPRegressor\n",
    "from sklearn.preprocessing import PolynomialFeatures\n",
    "import matplotlib.pyplot as plt\n",
    "import matplotlib\n",
    "from sklearn.model_selection import train_test_split\n",
    "\n",
    "%matplotlib inline\n",
    "\n",
    "#import empirical_calibration as ec\n",
    "from matplotlib import pyplot as plt\n",
    "import pandas as pd\n",
    "import seaborn as sns\n",
    "sns.set_style('whitegrid')\n",
    "%config InlineBackend.figure_format='retina'"
   ]
  },
  {
   "cell_type": "code",
   "execution_count": 3,
   "metadata": {},
   "outputs": [],
   "source": [
    "df = pd.read_csv(\"lalonde_data_expand.csv\")\n"
   ]
  },
  {
   "cell_type": "code",
   "execution_count": 4,
   "metadata": {},
   "outputs": [
    {
     "data": {
      "text/html": [
       "<div>\n",
       "<style scoped>\n",
       "    .dataframe tbody tr th:only-of-type {\n",
       "        vertical-align: middle;\n",
       "    }\n",
       "\n",
       "    .dataframe tbody tr th {\n",
       "        vertical-align: top;\n",
       "    }\n",
       "\n",
       "    .dataframe thead th {\n",
       "        text-align: right;\n",
       "    }\n",
       "</style>\n",
       "<table border=\"1\" class=\"dataframe\">\n",
       "  <thead>\n",
       "    <tr style=\"text-align: right;\">\n",
       "      <th></th>\n",
       "      <th>treat</th>\n",
       "      <th>age</th>\n",
       "      <th>education</th>\n",
       "      <th>black</th>\n",
       "      <th>hispanic</th>\n",
       "      <th>married</th>\n",
       "      <th>nodegree</th>\n",
       "      <th>re74</th>\n",
       "      <th>re75</th>\n",
       "      <th>re78</th>\n",
       "      <th>...</th>\n",
       "      <th>re74_re74</th>\n",
       "      <th>re74_re75</th>\n",
       "      <th>re75_age</th>\n",
       "      <th>re75_education</th>\n",
       "      <th>re75_black</th>\n",
       "      <th>re75_hispanic</th>\n",
       "      <th>re75_married</th>\n",
       "      <th>re75_nodegree</th>\n",
       "      <th>re75_re74</th>\n",
       "      <th>re75_re75</th>\n",
       "    </tr>\n",
       "  </thead>\n",
       "  <tbody>\n",
       "    <tr>\n",
       "      <td>0</td>\n",
       "      <td>0</td>\n",
       "      <td>45</td>\n",
       "      <td>11</td>\n",
       "      <td>0</td>\n",
       "      <td>0</td>\n",
       "      <td>1</td>\n",
       "      <td>1</td>\n",
       "      <td>21516.6700</td>\n",
       "      <td>25243.5510</td>\n",
       "      <td>25564.6700</td>\n",
       "      <td>...</td>\n",
       "      <td>462967072.0</td>\n",
       "      <td>543157120.0</td>\n",
       "      <td>1135959.80</td>\n",
       "      <td>277679.060</td>\n",
       "      <td>0.0</td>\n",
       "      <td>0.0</td>\n",
       "      <td>25243.551</td>\n",
       "      <td>25243.551</td>\n",
       "      <td>543157120.0</td>\n",
       "      <td>637236864.0</td>\n",
       "    </tr>\n",
       "    <tr>\n",
       "      <td>1</td>\n",
       "      <td>0</td>\n",
       "      <td>21</td>\n",
       "      <td>14</td>\n",
       "      <td>0</td>\n",
       "      <td>0</td>\n",
       "      <td>0</td>\n",
       "      <td>0</td>\n",
       "      <td>3175.9709</td>\n",
       "      <td>5852.5649</td>\n",
       "      <td>13496.0800</td>\n",
       "      <td>...</td>\n",
       "      <td>10086791.0</td>\n",
       "      <td>18587576.0</td>\n",
       "      <td>122903.87</td>\n",
       "      <td>81935.906</td>\n",
       "      <td>0.0</td>\n",
       "      <td>0.0</td>\n",
       "      <td>0.000</td>\n",
       "      <td>0.000</td>\n",
       "      <td>18587576.0</td>\n",
       "      <td>34252516.0</td>\n",
       "    </tr>\n",
       "    <tr>\n",
       "      <td>2</td>\n",
       "      <td>0</td>\n",
       "      <td>38</td>\n",
       "      <td>12</td>\n",
       "      <td>0</td>\n",
       "      <td>0</td>\n",
       "      <td>1</td>\n",
       "      <td>0</td>\n",
       "      <td>23039.0200</td>\n",
       "      <td>25130.7600</td>\n",
       "      <td>25564.6700</td>\n",
       "      <td>...</td>\n",
       "      <td>530796416.0</td>\n",
       "      <td>578988096.0</td>\n",
       "      <td>954968.88</td>\n",
       "      <td>301569.130</td>\n",
       "      <td>0.0</td>\n",
       "      <td>0.0</td>\n",
       "      <td>25130.760</td>\n",
       "      <td>0.000</td>\n",
       "      <td>578988096.0</td>\n",
       "      <td>631555072.0</td>\n",
       "    </tr>\n",
       "    <tr>\n",
       "      <td>3</td>\n",
       "      <td>0</td>\n",
       "      <td>48</td>\n",
       "      <td>6</td>\n",
       "      <td>0</td>\n",
       "      <td>0</td>\n",
       "      <td>1</td>\n",
       "      <td>1</td>\n",
       "      <td>24994.3690</td>\n",
       "      <td>25243.5510</td>\n",
       "      <td>25564.6700</td>\n",
       "      <td>...</td>\n",
       "      <td>624718464.0</td>\n",
       "      <td>630946624.0</td>\n",
       "      <td>1211690.50</td>\n",
       "      <td>151461.310</td>\n",
       "      <td>0.0</td>\n",
       "      <td>0.0</td>\n",
       "      <td>25243.551</td>\n",
       "      <td>25243.551</td>\n",
       "      <td>630946624.0</td>\n",
       "      <td>637236864.0</td>\n",
       "    </tr>\n",
       "    <tr>\n",
       "      <td>4</td>\n",
       "      <td>0</td>\n",
       "      <td>18</td>\n",
       "      <td>8</td>\n",
       "      <td>0</td>\n",
       "      <td>0</td>\n",
       "      <td>1</td>\n",
       "      <td>1</td>\n",
       "      <td>1669.2950</td>\n",
       "      <td>10727.6100</td>\n",
       "      <td>9860.8691</td>\n",
       "      <td>...</td>\n",
       "      <td>2786546.0</td>\n",
       "      <td>17907546.0</td>\n",
       "      <td>193096.98</td>\n",
       "      <td>85820.883</td>\n",
       "      <td>0.0</td>\n",
       "      <td>0.0</td>\n",
       "      <td>10727.610</td>\n",
       "      <td>10727.610</td>\n",
       "      <td>17907546.0</td>\n",
       "      <td>115081624.0</td>\n",
       "    </tr>\n",
       "  </tbody>\n",
       "</table>\n",
       "<p>5 rows × 72 columns</p>\n",
       "</div>"
      ],
      "text/plain": [
       "   treat  age  education  black  hispanic  married  nodegree        re74  \\\n",
       "0      0   45         11      0         0        1         1  21516.6700   \n",
       "1      0   21         14      0         0        0         0   3175.9709   \n",
       "2      0   38         12      0         0        1         0  23039.0200   \n",
       "3      0   48          6      0         0        1         1  24994.3690   \n",
       "4      0   18          8      0         0        1         1   1669.2950   \n",
       "\n",
       "         re75        re78  ...    re74_re74    re74_re75    re75_age  \\\n",
       "0  25243.5510  25564.6700  ...  462967072.0  543157120.0  1135959.80   \n",
       "1   5852.5649  13496.0800  ...   10086791.0   18587576.0   122903.87   \n",
       "2  25130.7600  25564.6700  ...  530796416.0  578988096.0   954968.88   \n",
       "3  25243.5510  25564.6700  ...  624718464.0  630946624.0  1211690.50   \n",
       "4  10727.6100   9860.8691  ...    2786546.0   17907546.0   193096.98   \n",
       "\n",
       "   re75_education  re75_black  re75_hispanic  re75_married  re75_nodegree  \\\n",
       "0      277679.060         0.0            0.0     25243.551      25243.551   \n",
       "1       81935.906         0.0            0.0         0.000          0.000   \n",
       "2      301569.130         0.0            0.0     25130.760          0.000   \n",
       "3      151461.310         0.0            0.0     25243.551      25243.551   \n",
       "4       85820.883         0.0            0.0     10727.610      10727.610   \n",
       "\n",
       "     re75_re74    re75_re75  \n",
       "0  543157120.0  637236864.0  \n",
       "1   18587576.0   34252516.0  \n",
       "2  578988096.0  631555072.0  \n",
       "3  630946624.0  637236864.0  \n",
       "4   17907546.0  115081624.0  \n",
       "\n",
       "[5 rows x 72 columns]"
      ]
     },
     "execution_count": 4,
     "metadata": {},
     "output_type": "execute_result"
    }
   ],
   "source": [
    "df.head()\n"
   ]
  },
  {
   "cell_type": "code",
   "execution_count": 4,
   "metadata": {},
   "outputs": [],
   "source": [
    "Y = df['re78']\n",
    "T = df['treat']\n",
    "W = df.iloc[:,[1,2,3,4,5,6,7,8]]\n",
    "X = df.iloc[:,[5]]"
   ]
  },
  {
   "cell_type": "code",
   "execution_count": 5,
   "metadata": {},
   "outputs": [
    {
     "data": {
      "text/plain": [
       "(16177, 1)"
      ]
     },
     "execution_count": 5,
     "metadata": {},
     "output_type": "execute_result"
    }
   ],
   "source": [
    "X.shape"
   ]
  },
  {
   "cell_type": "code",
   "execution_count": 6,
   "metadata": {},
   "outputs": [
    {
     "data": {
      "text/html": [
       "<div>\n",
       "<style scoped>\n",
       "    .dataframe tbody tr th:only-of-type {\n",
       "        vertical-align: middle;\n",
       "    }\n",
       "\n",
       "    .dataframe tbody tr th {\n",
       "        vertical-align: top;\n",
       "    }\n",
       "\n",
       "    .dataframe thead th {\n",
       "        text-align: right;\n",
       "    }\n",
       "</style>\n",
       "<table border=\"1\" class=\"dataframe\">\n",
       "  <thead>\n",
       "    <tr style=\"text-align: right;\">\n",
       "      <th></th>\n",
       "      <th>age</th>\n",
       "      <th>education</th>\n",
       "      <th>black</th>\n",
       "      <th>hispanic</th>\n",
       "      <th>married</th>\n",
       "      <th>nodegree</th>\n",
       "      <th>re74</th>\n",
       "      <th>re75</th>\n",
       "    </tr>\n",
       "  </thead>\n",
       "  <tbody>\n",
       "    <tr>\n",
       "      <td>0</td>\n",
       "      <td>45</td>\n",
       "      <td>11</td>\n",
       "      <td>0</td>\n",
       "      <td>0</td>\n",
       "      <td>1</td>\n",
       "      <td>1</td>\n",
       "      <td>21516.6700</td>\n",
       "      <td>25243.5510</td>\n",
       "    </tr>\n",
       "    <tr>\n",
       "      <td>1</td>\n",
       "      <td>21</td>\n",
       "      <td>14</td>\n",
       "      <td>0</td>\n",
       "      <td>0</td>\n",
       "      <td>0</td>\n",
       "      <td>0</td>\n",
       "      <td>3175.9709</td>\n",
       "      <td>5852.5649</td>\n",
       "    </tr>\n",
       "    <tr>\n",
       "      <td>2</td>\n",
       "      <td>38</td>\n",
       "      <td>12</td>\n",
       "      <td>0</td>\n",
       "      <td>0</td>\n",
       "      <td>1</td>\n",
       "      <td>0</td>\n",
       "      <td>23039.0200</td>\n",
       "      <td>25130.7600</td>\n",
       "    </tr>\n",
       "    <tr>\n",
       "      <td>3</td>\n",
       "      <td>48</td>\n",
       "      <td>6</td>\n",
       "      <td>0</td>\n",
       "      <td>0</td>\n",
       "      <td>1</td>\n",
       "      <td>1</td>\n",
       "      <td>24994.3690</td>\n",
       "      <td>25243.5510</td>\n",
       "    </tr>\n",
       "    <tr>\n",
       "      <td>4</td>\n",
       "      <td>18</td>\n",
       "      <td>8</td>\n",
       "      <td>0</td>\n",
       "      <td>0</td>\n",
       "      <td>1</td>\n",
       "      <td>1</td>\n",
       "      <td>1669.2950</td>\n",
       "      <td>10727.6100</td>\n",
       "    </tr>\n",
       "  </tbody>\n",
       "</table>\n",
       "</div>"
      ],
      "text/plain": [
       "   age  education  black  hispanic  married  nodegree        re74        re75\n",
       "0   45         11      0         0        1         1  21516.6700  25243.5510\n",
       "1   21         14      0         0        0         0   3175.9709   5852.5649\n",
       "2   38         12      0         0        1         0  23039.0200  25130.7600\n",
       "3   48          6      0         0        1         1  24994.3690  25243.5510\n",
       "4   18          8      0         0        1         1   1669.2950  10727.6100"
      ]
     },
     "execution_count": 6,
     "metadata": {},
     "output_type": "execute_result"
    }
   ],
   "source": [
    "W.head()"
   ]
  },
  {
   "cell_type": "code",
   "execution_count": 7,
   "metadata": {},
   "outputs": [
    {
     "name": "stdout",
     "output_type": "stream",
     "text": [
      "Coefficient Results:  X is None, please call intercept_inference to learn the constant!\n"
     ]
    },
    {
     "data": {
      "text/html": [
       "<table class=\"simpletable\">\n",
       "<caption>Intercept Results</caption>\n",
       "<tr>\n",
       "      <td></td>      <th>point_estimate</th>     <th>stderr</th>         <th>zstat</th>       <th>pvalue</th>       <th>ci_lower</th>        <th>ci_upper</th>    \n",
       "</tr>\n",
       "<tr>\n",
       "  <th>intercept</th> <td>800.8708485813</td> <td>635.6548709995</td> <td>1.2599145938</td> <td>0.2077001735</td> <td>-244.6883714715</td> <td>1846.4300686342</td>\n",
       "</tr>\n",
       "</table>"
      ],
      "text/plain": [
       "<class 'econml.utilities.Summary'>\n",
       "\"\"\"\n",
       "                                        Intercept Results                                        \n",
       "=================================================================================================\n",
       "          point_estimate     stderr        zstat        pvalue        ci_lower        ci_upper   \n",
       "-------------------------------------------------------------------------------------------------\n",
       "intercept 800.8708485813 635.6548709995 1.2599145938 0.2077001735 -244.6883714715 1846.4300686342\n",
       "-------------------------------------------------------------------------------------------------\n",
       "\"\"\""
      ]
     },
     "execution_count": 7,
     "metadata": {},
     "output_type": "execute_result"
    }
   ],
   "source": [
    "from econml.dml import LinearDMLCateEstimator\n",
    "from sklearn.linear_model import LogisticRegressionCV\n",
    "est = LinearDMLCateEstimator(model_t=GradientBoostingClassifier(n_estimators=100), \n",
    "                             model_y=GradientBoostingRegressor(n_estimators=100),\n",
    "                             discrete_treatment=True, random_state=20201002, n_splits = 5)\n",
    "est.fit(Y, T,None,W,  inference='statsmodels')\n",
    "est.summary(decimals=10)"
   ]
  },
  {
   "cell_type": "code",
   "execution_count": 41,
   "metadata": {},
   "outputs": [
    {
     "name": "stderr",
     "output_type": "stream",
     "text": [
      "/Users/xiozh/anaconda3/lib/python3.7/site-packages/econml/dml.py:163: UserWarning: The final model has a nonzero intercept for at least one outcome; it will be subtracted, but consider fitting a model without an intercept if possible.\n",
      "  UserWarning)\n"
     ]
    },
    {
     "data": {
      "text/plain": [
       "<econml.dml.DMLCateEstimator at 0x1a2a29d4d0>"
      ]
     },
     "execution_count": 41,
     "metadata": {},
     "output_type": "execute_result"
    }
   ],
   "source": [
    "from econml.dml import LinearDMLCateEstimator\n",
    "from sklearn.linear_model import LogisticRegressionCV\n",
    "est = DMLCateEstimator(model_t=GradientBoostingClassifier(n_estimators=100), \n",
    "                             model_y=GradientBoostingRegressor(n_estimators=100), model_final = LinearRegression()\n",
    "                             ,discrete_treatment=True, random_state=20201002)\n",
    "est.fit(Y, T,None,W)\n"
   ]
  },
  {
   "cell_type": "code",
   "execution_count": 42,
   "metadata": {},
   "outputs": [
    {
     "data": {
      "text/plain": [
       "array([781.95226628])"
      ]
     },
     "execution_count": 42,
     "metadata": {},
     "output_type": "execute_result"
    }
   ],
   "source": [
    "est.effect(None, T0=0, T1=1)"
   ]
  },
  {
   "cell_type": "code",
   "execution_count": 11,
   "metadata": {},
   "outputs": [
    {
     "data": {
      "text/plain": [
       "array([[1148.41497835],\n",
       "       [ 649.05810012],\n",
       "       [1148.41497835],\n",
       "       ...,\n",
       "       [1148.41497835],\n",
       "       [1148.41497835],\n",
       "       [1148.41497835]])"
      ]
     },
     "execution_count": 11,
     "metadata": {},
     "output_type": "execute_result"
    }
   ],
   "source": [
    "\n",
    "est.const_marginal_effect(X)\n"
   ]
  },
  {
   "cell_type": "code",
   "execution_count": 12,
   "metadata": {},
   "outputs": [
    {
     "data": {
      "text/plain": [
       "(16177, 1)"
      ]
     },
     "execution_count": 12,
     "metadata": {},
     "output_type": "execute_result"
    }
   ],
   "source": [
    "est.const_marginal_effect(X).shape\n"
   ]
  },
  {
   "cell_type": "code",
   "execution_count": 13,
   "metadata": {},
   "outputs": [
    {
     "name": "stdout",
     "output_type": "stream",
     "text": [
      "Coefficient Results:  X is None, please call intercept_inference to learn the constant!\n"
     ]
    },
    {
     "data": {
      "text/html": [
       "<table class=\"simpletable\">\n",
       "<caption>Intercept Results</caption>\n",
       "<tr>\n",
       "      <td></td>      <th>point_estimate</th>    <th>stderr</th>         <th>zstat</th>       <th>pvalue</th>       <th>ci_lower</th>        <th>ci_upper</th>    \n",
       "</tr>\n",
       "<tr>\n",
       "  <th>intercept</th> <td>781.6365840393</td> <td>641.966817089</td> <td>1.2175653994</td> <td>0.2233891698</td> <td>-274.3048634321</td> <td>1837.5780315106</td>\n",
       "</tr>\n",
       "</table>"
      ],
      "text/plain": [
       "<class 'econml.utilities.Summary'>\n",
       "\"\"\"\n",
       "                                       Intercept Results                                        \n",
       "================================================================================================\n",
       "          point_estimate     stderr       zstat        pvalue        ci_lower        ci_upper   \n",
       "------------------------------------------------------------------------------------------------\n",
       "intercept 781.6365840393 641.966817089 1.2175653994 0.2233891698 -274.3048634321 1837.5780315106\n",
       "------------------------------------------------------------------------------------------------\n",
       "\"\"\""
      ]
     },
     "execution_count": 13,
     "metadata": {},
     "output_type": "execute_result"
    }
   ],
   "source": [
    "from econml.dml import LinearDMLCateEstimator\n",
    "from sklearn.linear_model import LogisticRegressionCV\n",
    "est = LinearDMLCateEstimator(model_t=GradientBoostingClassifier(n_estimators=100), model_y=GradientBoostingRegressor(n_estimators=100),discrete_treatment=True, random_state =20201002)\n",
    "est.fit(Y, T, None,W,  inference='statsmodels')\n",
    "est.summary(decimals=10)"
   ]
  },
  {
   "cell_type": "code",
   "execution_count": 14,
   "metadata": {},
   "outputs": [],
   "source": [
    "# simulation example. "
   ]
  },
  {
   "cell_type": "code",
   "execution_count": 8,
   "metadata": {},
   "outputs": [],
   "source": [
    "df = pd.read_csv(\"simulation.csv\")\n"
   ]
  },
  {
   "cell_type": "code",
   "execution_count": 9,
   "metadata": {},
   "outputs": [
    {
     "data": {
      "text/html": [
       "<div>\n",
       "<style scoped>\n",
       "    .dataframe tbody tr th:only-of-type {\n",
       "        vertical-align: middle;\n",
       "    }\n",
       "\n",
       "    .dataframe tbody tr th {\n",
       "        vertical-align: top;\n",
       "    }\n",
       "\n",
       "    .dataframe thead th {\n",
       "        text-align: right;\n",
       "    }\n",
       "</style>\n",
       "<table border=\"1\" class=\"dataframe\">\n",
       "  <thead>\n",
       "    <tr style=\"text-align: right;\">\n",
       "      <th></th>\n",
       "      <th>x1</th>\n",
       "      <th>x2</th>\n",
       "      <th>x3</th>\n",
       "      <th>x4</th>\n",
       "      <th>x5</th>\n",
       "      <th>x6</th>\n",
       "      <th>x7</th>\n",
       "      <th>x8</th>\n",
       "      <th>x9</th>\n",
       "      <th>x10</th>\n",
       "      <th>x11</th>\n",
       "      <th>x12</th>\n",
       "      <th>x13</th>\n",
       "      <th>x14</th>\n",
       "      <th>treat</th>\n",
       "      <th>y1</th>\n",
       "      <th>y2</th>\n",
       "      <th>y3</th>\n",
       "    </tr>\n",
       "  </thead>\n",
       "  <tbody>\n",
       "    <tr>\n",
       "      <td>0</td>\n",
       "      <td>-0.968214</td>\n",
       "      <td>10.449774</td>\n",
       "      <td>6.699888</td>\n",
       "      <td>-12.999743</td>\n",
       "      <td>-1.578476</td>\n",
       "      <td>9.600975</td>\n",
       "      <td>3.259011</td>\n",
       "      <td>4.302259</td>\n",
       "      <td>3.260433</td>\n",
       "      <td>-9.517027</td>\n",
       "      <td>0</td>\n",
       "      <td>0</td>\n",
       "      <td>0</td>\n",
       "      <td>0</td>\n",
       "      <td>0</td>\n",
       "      <td>29.150280</td>\n",
       "      <td>29.15028</td>\n",
       "      <td>29.150280</td>\n",
       "    </tr>\n",
       "    <tr>\n",
       "      <td>1</td>\n",
       "      <td>-1.655520</td>\n",
       "      <td>-7.906361</td>\n",
       "      <td>3.674862</td>\n",
       "      <td>4.268746</td>\n",
       "      <td>10.597282</td>\n",
       "      <td>5.996083</td>\n",
       "      <td>-0.261753</td>\n",
       "      <td>0.513710</td>\n",
       "      <td>-10.802409</td>\n",
       "      <td>-18.845600</td>\n",
       "      <td>1</td>\n",
       "      <td>0</td>\n",
       "      <td>1</td>\n",
       "      <td>1</td>\n",
       "      <td>0</td>\n",
       "      <td>-145.806030</td>\n",
       "      <td>-264.40143</td>\n",
       "      <td>-159.806030</td>\n",
       "    </tr>\n",
       "    <tr>\n",
       "      <td>2</td>\n",
       "      <td>0.367583</td>\n",
       "      <td>24.977398</td>\n",
       "      <td>-9.260925</td>\n",
       "      <td>-16.917364</td>\n",
       "      <td>3.740397</td>\n",
       "      <td>-5.121129</td>\n",
       "      <td>-5.817641</td>\n",
       "      <td>9.510558</td>\n",
       "      <td>-7.282703</td>\n",
       "      <td>1.302011</td>\n",
       "      <td>1</td>\n",
       "      <td>0</td>\n",
       "      <td>1</td>\n",
       "      <td>0</td>\n",
       "      <td>1</td>\n",
       "      <td>-30.317884</td>\n",
       "      <td>344.34308</td>\n",
       "      <td>-30.317884</td>\n",
       "    </tr>\n",
       "    <tr>\n",
       "      <td>3</td>\n",
       "      <td>-1.180999</td>\n",
       "      <td>0.859065</td>\n",
       "      <td>25.029938</td>\n",
       "      <td>0.236197</td>\n",
       "      <td>13.324658</td>\n",
       "      <td>7.696211</td>\n",
       "      <td>-19.301029</td>\n",
       "      <td>6.256372</td>\n",
       "      <td>-0.449694</td>\n",
       "      <td>0.615570</td>\n",
       "      <td>0</td>\n",
       "      <td>0</td>\n",
       "      <td>1</td>\n",
       "      <td>0</td>\n",
       "      <td>1</td>\n",
       "      <td>139.424510</td>\n",
       "      <td>139.42451</td>\n",
       "      <td>139.424510</td>\n",
       "    </tr>\n",
       "    <tr>\n",
       "      <td>4</td>\n",
       "      <td>1.515738</td>\n",
       "      <td>-1.609899</td>\n",
       "      <td>3.413305</td>\n",
       "      <td>-8.047482</td>\n",
       "      <td>23.242582</td>\n",
       "      <td>-1.181857</td>\n",
       "      <td>13.162636</td>\n",
       "      <td>4.899009</td>\n",
       "      <td>-4.769856</td>\n",
       "      <td>-10.075878</td>\n",
       "      <td>0</td>\n",
       "      <td>1</td>\n",
       "      <td>1</td>\n",
       "      <td>0</td>\n",
       "      <td>0</td>\n",
       "      <td>98.110741</td>\n",
       "      <td>152.72362</td>\n",
       "      <td>98.110741</td>\n",
       "    </tr>\n",
       "  </tbody>\n",
       "</table>\n",
       "</div>"
      ],
      "text/plain": [
       "         x1         x2         x3         x4         x5        x6         x7  \\\n",
       "0 -0.968214  10.449774   6.699888 -12.999743  -1.578476  9.600975   3.259011   \n",
       "1 -1.655520  -7.906361   3.674862   4.268746  10.597282  5.996083  -0.261753   \n",
       "2  0.367583  24.977398  -9.260925 -16.917364   3.740397 -5.121129  -5.817641   \n",
       "3 -1.180999   0.859065  25.029938   0.236197  13.324658  7.696211 -19.301029   \n",
       "4  1.515738  -1.609899   3.413305  -8.047482  23.242582 -1.181857  13.162636   \n",
       "\n",
       "         x8         x9        x10  x11  x12  x13  x14  treat          y1  \\\n",
       "0  4.302259   3.260433  -9.517027    0    0    0    0      0   29.150280   \n",
       "1  0.513710 -10.802409 -18.845600    1    0    1    1      0 -145.806030   \n",
       "2  9.510558  -7.282703   1.302011    1    0    1    0      1  -30.317884   \n",
       "3  6.256372  -0.449694   0.615570    0    0    1    0      1  139.424510   \n",
       "4  4.899009  -4.769856 -10.075878    0    1    1    0      0   98.110741   \n",
       "\n",
       "          y2          y3  \n",
       "0   29.15028   29.150280  \n",
       "1 -264.40143 -159.806030  \n",
       "2  344.34308  -30.317884  \n",
       "3  139.42451  139.424510  \n",
       "4  152.72362   98.110741  "
      ]
     },
     "execution_count": 9,
     "metadata": {},
     "output_type": "execute_result"
    }
   ],
   "source": [
    "df.head()"
   ]
  },
  {
   "cell_type": "code",
   "execution_count": 10,
   "metadata": {},
   "outputs": [],
   "source": [
    "Y1 = df['y1']\n",
    "Y2 = df['y2']\n",
    "Y3 = df['y3']\n",
    "T = df['treat']\n",
    "W = df.iloc[:,[1,2,3,4,5,6,7,8,9,10,11,12,13]]\n",
    "X = df.iloc[:,[13]]"
   ]
  },
  {
   "cell_type": "code",
   "execution_count": 11,
   "metadata": {},
   "outputs": [
    {
     "data": {
      "text/html": [
       "<div>\n",
       "<style scoped>\n",
       "    .dataframe tbody tr th:only-of-type {\n",
       "        vertical-align: middle;\n",
       "    }\n",
       "\n",
       "    .dataframe tbody tr th {\n",
       "        vertical-align: top;\n",
       "    }\n",
       "\n",
       "    .dataframe thead th {\n",
       "        text-align: right;\n",
       "    }\n",
       "</style>\n",
       "<table border=\"1\" class=\"dataframe\">\n",
       "  <thead>\n",
       "    <tr style=\"text-align: right;\">\n",
       "      <th></th>\n",
       "      <th>x2</th>\n",
       "      <th>x3</th>\n",
       "      <th>x4</th>\n",
       "      <th>x5</th>\n",
       "      <th>x6</th>\n",
       "      <th>x7</th>\n",
       "      <th>x8</th>\n",
       "      <th>x9</th>\n",
       "      <th>x10</th>\n",
       "      <th>x11</th>\n",
       "      <th>x12</th>\n",
       "      <th>x13</th>\n",
       "      <th>x14</th>\n",
       "    </tr>\n",
       "  </thead>\n",
       "  <tbody>\n",
       "    <tr>\n",
       "      <td>0</td>\n",
       "      <td>10.449774</td>\n",
       "      <td>6.699888</td>\n",
       "      <td>-12.999743</td>\n",
       "      <td>-1.578476</td>\n",
       "      <td>9.600975</td>\n",
       "      <td>3.259011</td>\n",
       "      <td>4.302259</td>\n",
       "      <td>3.260433</td>\n",
       "      <td>-9.517027</td>\n",
       "      <td>0</td>\n",
       "      <td>0</td>\n",
       "      <td>0</td>\n",
       "      <td>0</td>\n",
       "    </tr>\n",
       "    <tr>\n",
       "      <td>1</td>\n",
       "      <td>-7.906361</td>\n",
       "      <td>3.674862</td>\n",
       "      <td>4.268746</td>\n",
       "      <td>10.597282</td>\n",
       "      <td>5.996083</td>\n",
       "      <td>-0.261753</td>\n",
       "      <td>0.513710</td>\n",
       "      <td>-10.802409</td>\n",
       "      <td>-18.845600</td>\n",
       "      <td>1</td>\n",
       "      <td>0</td>\n",
       "      <td>1</td>\n",
       "      <td>1</td>\n",
       "    </tr>\n",
       "    <tr>\n",
       "      <td>2</td>\n",
       "      <td>24.977398</td>\n",
       "      <td>-9.260925</td>\n",
       "      <td>-16.917364</td>\n",
       "      <td>3.740397</td>\n",
       "      <td>-5.121129</td>\n",
       "      <td>-5.817641</td>\n",
       "      <td>9.510558</td>\n",
       "      <td>-7.282703</td>\n",
       "      <td>1.302011</td>\n",
       "      <td>1</td>\n",
       "      <td>0</td>\n",
       "      <td>1</td>\n",
       "      <td>0</td>\n",
       "    </tr>\n",
       "    <tr>\n",
       "      <td>3</td>\n",
       "      <td>0.859065</td>\n",
       "      <td>25.029938</td>\n",
       "      <td>0.236197</td>\n",
       "      <td>13.324658</td>\n",
       "      <td>7.696211</td>\n",
       "      <td>-19.301029</td>\n",
       "      <td>6.256372</td>\n",
       "      <td>-0.449694</td>\n",
       "      <td>0.615570</td>\n",
       "      <td>0</td>\n",
       "      <td>0</td>\n",
       "      <td>1</td>\n",
       "      <td>0</td>\n",
       "    </tr>\n",
       "    <tr>\n",
       "      <td>4</td>\n",
       "      <td>-1.609899</td>\n",
       "      <td>3.413305</td>\n",
       "      <td>-8.047482</td>\n",
       "      <td>23.242582</td>\n",
       "      <td>-1.181857</td>\n",
       "      <td>13.162636</td>\n",
       "      <td>4.899009</td>\n",
       "      <td>-4.769856</td>\n",
       "      <td>-10.075878</td>\n",
       "      <td>0</td>\n",
       "      <td>1</td>\n",
       "      <td>1</td>\n",
       "      <td>0</td>\n",
       "    </tr>\n",
       "  </tbody>\n",
       "</table>\n",
       "</div>"
      ],
      "text/plain": [
       "          x2         x3         x4         x5        x6         x7        x8  \\\n",
       "0  10.449774   6.699888 -12.999743  -1.578476  9.600975   3.259011  4.302259   \n",
       "1  -7.906361   3.674862   4.268746  10.597282  5.996083  -0.261753  0.513710   \n",
       "2  24.977398  -9.260925 -16.917364   3.740397 -5.121129  -5.817641  9.510558   \n",
       "3   0.859065  25.029938   0.236197  13.324658  7.696211 -19.301029  6.256372   \n",
       "4  -1.609899   3.413305  -8.047482  23.242582 -1.181857  13.162636  4.899009   \n",
       "\n",
       "          x9        x10  x11  x12  x13  x14  \n",
       "0   3.260433  -9.517027    0    0    0    0  \n",
       "1 -10.802409 -18.845600    1    0    1    1  \n",
       "2  -7.282703   1.302011    1    0    1    0  \n",
       "3  -0.449694   0.615570    0    0    1    0  \n",
       "4  -4.769856 -10.075878    0    1    1    0  "
      ]
     },
     "execution_count": 11,
     "metadata": {},
     "output_type": "execute_result"
    }
   ],
   "source": [
    "W.head()"
   ]
  },
  {
   "cell_type": "code",
   "execution_count": 12,
   "metadata": {},
   "outputs": [
    {
     "data": {
      "text/html": [
       "<div>\n",
       "<style scoped>\n",
       "    .dataframe tbody tr th:only-of-type {\n",
       "        vertical-align: middle;\n",
       "    }\n",
       "\n",
       "    .dataframe tbody tr th {\n",
       "        vertical-align: top;\n",
       "    }\n",
       "\n",
       "    .dataframe thead th {\n",
       "        text-align: right;\n",
       "    }\n",
       "</style>\n",
       "<table border=\"1\" class=\"dataframe\">\n",
       "  <thead>\n",
       "    <tr style=\"text-align: right;\">\n",
       "      <th></th>\n",
       "      <th>x14</th>\n",
       "    </tr>\n",
       "  </thead>\n",
       "  <tbody>\n",
       "    <tr>\n",
       "      <td>0</td>\n",
       "      <td>0</td>\n",
       "    </tr>\n",
       "    <tr>\n",
       "      <td>1</td>\n",
       "      <td>1</td>\n",
       "    </tr>\n",
       "    <tr>\n",
       "      <td>2</td>\n",
       "      <td>0</td>\n",
       "    </tr>\n",
       "    <tr>\n",
       "      <td>3</td>\n",
       "      <td>0</td>\n",
       "    </tr>\n",
       "    <tr>\n",
       "      <td>4</td>\n",
       "      <td>0</td>\n",
       "    </tr>\n",
       "  </tbody>\n",
       "</table>\n",
       "</div>"
      ],
      "text/plain": [
       "   x14\n",
       "0    0\n",
       "1    1\n",
       "2    0\n",
       "3    0\n",
       "4    0"
      ]
     },
     "execution_count": 12,
     "metadata": {},
     "output_type": "execute_result"
    }
   ],
   "source": [
    "X.head()"
   ]
  },
  {
   "cell_type": "code",
   "execution_count": 13,
   "metadata": {},
   "outputs": [
    {
     "name": "stdout",
     "output_type": "stream",
     "text": [
      "Coefficient Results:  X is None, please call intercept_inference to learn the constant!\n"
     ]
    },
    {
     "data": {
      "text/html": [
       "<table class=\"simpletable\">\n",
       "<caption>Intercept Results</caption>\n",
       "<tr>\n",
       "      <td></td>      <th>point_estimate</th>    <th>stderr</th>        <th>zstat</th>    <th>pvalue</th>   <th>ci_lower</th>      <th>ci_upper</th>   \n",
       "</tr>\n",
       "<tr>\n",
       "  <th>intercept</th>  <td>27.4463876541</td> <td>0.9441895553</td> <td>29.068726188</td>   <td>0.0</td>  <td>25.8933340394</td> <td>28.9994412687</td>\n",
       "</tr>\n",
       "</table>"
      ],
      "text/plain": [
       "<class 'econml.utilities.Summary'>\n",
       "\"\"\"\n",
       "                                  Intercept Results                                  \n",
       "=====================================================================================\n",
       "          point_estimate    stderr       zstat     pvalue    ci_lower      ci_upper  \n",
       "-------------------------------------------------------------------------------------\n",
       "intercept  27.4463876541 0.9441895553 29.068726188    0.0 25.8933340394 28.9994412687\n",
       "-------------------------------------------------------------------------------------\n",
       "\"\"\""
      ]
     },
     "execution_count": 13,
     "metadata": {},
     "output_type": "execute_result"
    }
   ],
   "source": [
    "from econml.dml import LinearDMLCateEstimator\n",
    "from sklearn.linear_model import LogisticRegressionCV\n",
    "est = LinearDMLCateEstimator(model_t=GradientBoostingClassifier(n_estimators=100), \n",
    "                             model_y=GradientBoostingRegressor(n_estimators=100),\n",
    "                             discrete_treatment=True, random_state =20201002)\n",
    "est.fit(Y3, T, None,W,  inference='statsmodels')\n",
    "est.summary(decimals=10)"
   ]
  },
  {
   "cell_type": "code",
   "execution_count": 14,
   "metadata": {},
   "outputs": [
    {
     "data": {
      "text/html": [
       "<table class=\"simpletable\">\n",
       "<caption>Coefficient Results</caption>\n",
       "<tr>\n",
       "   <td></td>  <th>point_estimate</th>    <th>stderr</th>        <th>zstat</th>     <th>pvalue</th>   <th>ci_lower</th>      <th>ci_upper</th>   \n",
       "</tr>\n",
       "<tr>\n",
       "  <th>X0</th>  <td>18.8467512769</td> <td>1.8797469392</td> <td>10.0262172974</td>   <td>0.0</td>  <td>15.7548427061</td> <td>21.9386598477</td>\n",
       "</tr>\n",
       "</table>\n",
       "<table class=\"simpletable\">\n",
       "<caption>Intercept Results</caption>\n",
       "<tr>\n",
       "      <td></td>      <th>point_estimate</th>    <th>stderr</th>        <th>zstat</th>     <th>pvalue</th>   <th>ci_lower</th>      <th>ci_upper</th>   \n",
       "</tr>\n",
       "<tr>\n",
       "  <th>intercept</th>  <td>17.9814391775</td> <td>1.3555391309</td> <td>13.2651568429</td>   <td>0.0</td>  <td>15.7517757217</td> <td>20.2111026334</td>\n",
       "</tr>\n",
       "</table>"
      ],
      "text/plain": [
       "<class 'econml.utilities.Summary'>\n",
       "\"\"\"\n",
       "                              Coefficient Results                              \n",
       "===============================================================================\n",
       "   point_estimate    stderr        zstat     pvalue    ci_lower      ci_upper  \n",
       "-------------------------------------------------------------------------------\n",
       "X0  18.8467512769 1.8797469392 10.0262172974    0.0 15.7548427061 21.9386598477\n",
       "                                  Intercept Results                                   \n",
       "======================================================================================\n",
       "          point_estimate    stderr        zstat     pvalue    ci_lower      ci_upper  \n",
       "--------------------------------------------------------------------------------------\n",
       "intercept  17.9814391775 1.3555391309 13.2651568429    0.0 15.7517757217 20.2111026334\n",
       "--------------------------------------------------------------------------------------\n",
       "\"\"\""
      ]
     },
     "execution_count": 14,
     "metadata": {},
     "output_type": "execute_result"
    }
   ],
   "source": [
    "from econml.dml import LinearDMLCateEstimator\n",
    "from sklearn.linear_model import LogisticRegressionCV\n",
    "est = LinearDMLCateEstimator(model_t=GradientBoostingClassifier(n_estimators=100), \n",
    "                             model_y=GradientBoostingRegressor(n_estimators=100),\n",
    "                             discrete_treatment=True, random_state =20201002)\n",
    "est.fit(Y3, T, X,W,  inference='statsmodels')\n",
    "est.summary(decimals=10)"
   ]
  },
  {
   "cell_type": "code",
   "execution_count": 15,
   "metadata": {},
   "outputs": [
    {
     "data": {
      "text/plain": [
       "array([17.98143918, 36.82819045, 17.98143918, ..., 36.82819045,\n",
       "       36.82819045, 17.98143918])"
      ]
     },
     "execution_count": 15,
     "metadata": {},
     "output_type": "execute_result"
    }
   ],
   "source": [
    "est.effect(X, T0=0, T1=1)"
   ]
  },
  {
   "cell_type": "code",
   "execution_count": 2,
   "metadata": {},
   "outputs": [
    {
     "ename": "NameError",
     "evalue": "name 'X' is not defined",
     "output_type": "error",
     "traceback": [
      "\u001b[0;31m---------------------------------------------------------------------------\u001b[0m",
      "\u001b[0;31mNameError\u001b[0m                                 Traceback (most recent call last)",
      "\u001b[0;32m<ipython-input-2-bc5f1a0adac8>\u001b[0m in \u001b[0;36m<module>\u001b[0;34m\u001b[0m\n\u001b[0;32m----> 1\u001b[0;31m \u001b[0mX\u001b[0m\u001b[0;34m.\u001b[0m\u001b[0mshape\u001b[0m\u001b[0;34m\u001b[0m\u001b[0;34m\u001b[0m\u001b[0m\n\u001b[0m",
      "\u001b[0;31mNameError\u001b[0m: name 'X' is not defined"
     ]
    }
   ],
   "source": [
    "\n"
   ]
  },
  {
   "cell_type": "code",
   "execution_count": 5,
   "metadata": {},
   "outputs": [],
   "source": [
    "df = pd.read_csv(\"lalonde_data_expand.csv\")"
   ]
  },
  {
   "cell_type": "code",
   "execution_count": 6,
   "metadata": {},
   "outputs": [
    {
     "data": {
      "text/html": [
       "<div>\n",
       "<style scoped>\n",
       "    .dataframe tbody tr th:only-of-type {\n",
       "        vertical-align: middle;\n",
       "    }\n",
       "\n",
       "    .dataframe tbody tr th {\n",
       "        vertical-align: top;\n",
       "    }\n",
       "\n",
       "    .dataframe thead th {\n",
       "        text-align: right;\n",
       "    }\n",
       "</style>\n",
       "<table border=\"1\" class=\"dataframe\">\n",
       "  <thead>\n",
       "    <tr style=\"text-align: right;\">\n",
       "      <th></th>\n",
       "      <th>treat</th>\n",
       "      <th>age</th>\n",
       "      <th>education</th>\n",
       "      <th>black</th>\n",
       "      <th>hispanic</th>\n",
       "      <th>married</th>\n",
       "      <th>nodegree</th>\n",
       "      <th>re74</th>\n",
       "      <th>re75</th>\n",
       "      <th>re78</th>\n",
       "      <th>...</th>\n",
       "      <th>re74_re74</th>\n",
       "      <th>re74_re75</th>\n",
       "      <th>re75_age</th>\n",
       "      <th>re75_education</th>\n",
       "      <th>re75_black</th>\n",
       "      <th>re75_hispanic</th>\n",
       "      <th>re75_married</th>\n",
       "      <th>re75_nodegree</th>\n",
       "      <th>re75_re74</th>\n",
       "      <th>re75_re75</th>\n",
       "    </tr>\n",
       "  </thead>\n",
       "  <tbody>\n",
       "    <tr>\n",
       "      <td>0</td>\n",
       "      <td>0</td>\n",
       "      <td>45</td>\n",
       "      <td>11</td>\n",
       "      <td>0</td>\n",
       "      <td>0</td>\n",
       "      <td>1</td>\n",
       "      <td>1</td>\n",
       "      <td>21516.6700</td>\n",
       "      <td>25243.5510</td>\n",
       "      <td>25564.6700</td>\n",
       "      <td>...</td>\n",
       "      <td>462967072.0</td>\n",
       "      <td>543157120.0</td>\n",
       "      <td>1135959.80</td>\n",
       "      <td>277679.060</td>\n",
       "      <td>0.0</td>\n",
       "      <td>0.0</td>\n",
       "      <td>25243.551</td>\n",
       "      <td>25243.551</td>\n",
       "      <td>543157120.0</td>\n",
       "      <td>637236864.0</td>\n",
       "    </tr>\n",
       "    <tr>\n",
       "      <td>1</td>\n",
       "      <td>0</td>\n",
       "      <td>21</td>\n",
       "      <td>14</td>\n",
       "      <td>0</td>\n",
       "      <td>0</td>\n",
       "      <td>0</td>\n",
       "      <td>0</td>\n",
       "      <td>3175.9709</td>\n",
       "      <td>5852.5649</td>\n",
       "      <td>13496.0800</td>\n",
       "      <td>...</td>\n",
       "      <td>10086791.0</td>\n",
       "      <td>18587576.0</td>\n",
       "      <td>122903.87</td>\n",
       "      <td>81935.906</td>\n",
       "      <td>0.0</td>\n",
       "      <td>0.0</td>\n",
       "      <td>0.000</td>\n",
       "      <td>0.000</td>\n",
       "      <td>18587576.0</td>\n",
       "      <td>34252516.0</td>\n",
       "    </tr>\n",
       "    <tr>\n",
       "      <td>2</td>\n",
       "      <td>0</td>\n",
       "      <td>38</td>\n",
       "      <td>12</td>\n",
       "      <td>0</td>\n",
       "      <td>0</td>\n",
       "      <td>1</td>\n",
       "      <td>0</td>\n",
       "      <td>23039.0200</td>\n",
       "      <td>25130.7600</td>\n",
       "      <td>25564.6700</td>\n",
       "      <td>...</td>\n",
       "      <td>530796416.0</td>\n",
       "      <td>578988096.0</td>\n",
       "      <td>954968.88</td>\n",
       "      <td>301569.130</td>\n",
       "      <td>0.0</td>\n",
       "      <td>0.0</td>\n",
       "      <td>25130.760</td>\n",
       "      <td>0.000</td>\n",
       "      <td>578988096.0</td>\n",
       "      <td>631555072.0</td>\n",
       "    </tr>\n",
       "    <tr>\n",
       "      <td>3</td>\n",
       "      <td>0</td>\n",
       "      <td>48</td>\n",
       "      <td>6</td>\n",
       "      <td>0</td>\n",
       "      <td>0</td>\n",
       "      <td>1</td>\n",
       "      <td>1</td>\n",
       "      <td>24994.3690</td>\n",
       "      <td>25243.5510</td>\n",
       "      <td>25564.6700</td>\n",
       "      <td>...</td>\n",
       "      <td>624718464.0</td>\n",
       "      <td>630946624.0</td>\n",
       "      <td>1211690.50</td>\n",
       "      <td>151461.310</td>\n",
       "      <td>0.0</td>\n",
       "      <td>0.0</td>\n",
       "      <td>25243.551</td>\n",
       "      <td>25243.551</td>\n",
       "      <td>630946624.0</td>\n",
       "      <td>637236864.0</td>\n",
       "    </tr>\n",
       "    <tr>\n",
       "      <td>4</td>\n",
       "      <td>0</td>\n",
       "      <td>18</td>\n",
       "      <td>8</td>\n",
       "      <td>0</td>\n",
       "      <td>0</td>\n",
       "      <td>1</td>\n",
       "      <td>1</td>\n",
       "      <td>1669.2950</td>\n",
       "      <td>10727.6100</td>\n",
       "      <td>9860.8691</td>\n",
       "      <td>...</td>\n",
       "      <td>2786546.0</td>\n",
       "      <td>17907546.0</td>\n",
       "      <td>193096.98</td>\n",
       "      <td>85820.883</td>\n",
       "      <td>0.0</td>\n",
       "      <td>0.0</td>\n",
       "      <td>10727.610</td>\n",
       "      <td>10727.610</td>\n",
       "      <td>17907546.0</td>\n",
       "      <td>115081624.0</td>\n",
       "    </tr>\n",
       "  </tbody>\n",
       "</table>\n",
       "<p>5 rows × 72 columns</p>\n",
       "</div>"
      ],
      "text/plain": [
       "   treat  age  education  black  hispanic  married  nodegree        re74  \\\n",
       "0      0   45         11      0         0        1         1  21516.6700   \n",
       "1      0   21         14      0         0        0         0   3175.9709   \n",
       "2      0   38         12      0         0        1         0  23039.0200   \n",
       "3      0   48          6      0         0        1         1  24994.3690   \n",
       "4      0   18          8      0         0        1         1   1669.2950   \n",
       "\n",
       "         re75        re78  ...    re74_re74    re74_re75    re75_age  \\\n",
       "0  25243.5510  25564.6700  ...  462967072.0  543157120.0  1135959.80   \n",
       "1   5852.5649  13496.0800  ...   10086791.0   18587576.0   122903.87   \n",
       "2  25130.7600  25564.6700  ...  530796416.0  578988096.0   954968.88   \n",
       "3  25243.5510  25564.6700  ...  624718464.0  630946624.0  1211690.50   \n",
       "4  10727.6100   9860.8691  ...    2786546.0   17907546.0   193096.98   \n",
       "\n",
       "   re75_education  re75_black  re75_hispanic  re75_married  re75_nodegree  \\\n",
       "0      277679.060         0.0            0.0     25243.551      25243.551   \n",
       "1       81935.906         0.0            0.0         0.000          0.000   \n",
       "2      301569.130         0.0            0.0     25130.760          0.000   \n",
       "3      151461.310         0.0            0.0     25243.551      25243.551   \n",
       "4       85820.883         0.0            0.0     10727.610      10727.610   \n",
       "\n",
       "     re75_re74    re75_re75  \n",
       "0  543157120.0  637236864.0  \n",
       "1   18587576.0   34252516.0  \n",
       "2  578988096.0  631555072.0  \n",
       "3  630946624.0  637236864.0  \n",
       "4   17907546.0  115081624.0  \n",
       "\n",
       "[5 rows x 72 columns]"
      ]
     },
     "execution_count": 6,
     "metadata": {},
     "output_type": "execute_result"
    }
   ],
   "source": [
    "df.head()"
   ]
  },
  {
   "cell_type": "code",
   "execution_count": 27,
   "metadata": {},
   "outputs": [],
   "source": [
    "Y = df['re78']\n",
    "T = df['treat']\n",
    "W = df.iloc[:,1:71]"
   ]
  },
  {
   "cell_type": "code",
   "execution_count": 29,
   "metadata": {},
   "outputs": [],
   "source": [
    "W = df.iloc[:,1:72]"
   ]
  },
  {
   "cell_type": "code",
   "execution_count": 31,
   "metadata": {},
   "outputs": [],
   "source": [
    "del W['re78']"
   ]
  },
  {
   "cell_type": "code",
   "execution_count": 32,
   "metadata": {},
   "outputs": [
    {
     "data": {
      "text/html": [
       "<div>\n",
       "<style scoped>\n",
       "    .dataframe tbody tr th:only-of-type {\n",
       "        vertical-align: middle;\n",
       "    }\n",
       "\n",
       "    .dataframe tbody tr th {\n",
       "        vertical-align: top;\n",
       "    }\n",
       "\n",
       "    .dataframe thead th {\n",
       "        text-align: right;\n",
       "    }\n",
       "</style>\n",
       "<table border=\"1\" class=\"dataframe\">\n",
       "  <thead>\n",
       "    <tr style=\"text-align: right;\">\n",
       "      <th></th>\n",
       "      <th>age</th>\n",
       "      <th>education</th>\n",
       "      <th>black</th>\n",
       "      <th>hispanic</th>\n",
       "      <th>married</th>\n",
       "      <th>nodegree</th>\n",
       "      <th>re74</th>\n",
       "      <th>re75</th>\n",
       "      <th>age_age</th>\n",
       "      <th>age_education</th>\n",
       "      <th>...</th>\n",
       "      <th>re74_re74</th>\n",
       "      <th>re74_re75</th>\n",
       "      <th>re75_age</th>\n",
       "      <th>re75_education</th>\n",
       "      <th>re75_black</th>\n",
       "      <th>re75_hispanic</th>\n",
       "      <th>re75_married</th>\n",
       "      <th>re75_nodegree</th>\n",
       "      <th>re75_re74</th>\n",
       "      <th>re75_re75</th>\n",
       "    </tr>\n",
       "  </thead>\n",
       "  <tbody>\n",
       "    <tr>\n",
       "      <td>0</td>\n",
       "      <td>45</td>\n",
       "      <td>11</td>\n",
       "      <td>0</td>\n",
       "      <td>0</td>\n",
       "      <td>1</td>\n",
       "      <td>1</td>\n",
       "      <td>21516.6700</td>\n",
       "      <td>25243.5510</td>\n",
       "      <td>2025</td>\n",
       "      <td>495</td>\n",
       "      <td>...</td>\n",
       "      <td>4.629671e+08</td>\n",
       "      <td>543157120.0</td>\n",
       "      <td>1135959.80</td>\n",
       "      <td>277679.060</td>\n",
       "      <td>0.00</td>\n",
       "      <td>0.0</td>\n",
       "      <td>25243.551</td>\n",
       "      <td>25243.551</td>\n",
       "      <td>543157120.0</td>\n",
       "      <td>637236864.0</td>\n",
       "    </tr>\n",
       "    <tr>\n",
       "      <td>1</td>\n",
       "      <td>21</td>\n",
       "      <td>14</td>\n",
       "      <td>0</td>\n",
       "      <td>0</td>\n",
       "      <td>0</td>\n",
       "      <td>0</td>\n",
       "      <td>3175.9709</td>\n",
       "      <td>5852.5649</td>\n",
       "      <td>441</td>\n",
       "      <td>294</td>\n",
       "      <td>...</td>\n",
       "      <td>1.008679e+07</td>\n",
       "      <td>18587576.0</td>\n",
       "      <td>122903.87</td>\n",
       "      <td>81935.906</td>\n",
       "      <td>0.00</td>\n",
       "      <td>0.0</td>\n",
       "      <td>0.000</td>\n",
       "      <td>0.000</td>\n",
       "      <td>18587576.0</td>\n",
       "      <td>34252516.0</td>\n",
       "    </tr>\n",
       "    <tr>\n",
       "      <td>2</td>\n",
       "      <td>38</td>\n",
       "      <td>12</td>\n",
       "      <td>0</td>\n",
       "      <td>0</td>\n",
       "      <td>1</td>\n",
       "      <td>0</td>\n",
       "      <td>23039.0200</td>\n",
       "      <td>25130.7600</td>\n",
       "      <td>1444</td>\n",
       "      <td>456</td>\n",
       "      <td>...</td>\n",
       "      <td>5.307964e+08</td>\n",
       "      <td>578988096.0</td>\n",
       "      <td>954968.88</td>\n",
       "      <td>301569.130</td>\n",
       "      <td>0.00</td>\n",
       "      <td>0.0</td>\n",
       "      <td>25130.760</td>\n",
       "      <td>0.000</td>\n",
       "      <td>578988096.0</td>\n",
       "      <td>631555072.0</td>\n",
       "    </tr>\n",
       "    <tr>\n",
       "      <td>3</td>\n",
       "      <td>48</td>\n",
       "      <td>6</td>\n",
       "      <td>0</td>\n",
       "      <td>0</td>\n",
       "      <td>1</td>\n",
       "      <td>1</td>\n",
       "      <td>24994.3690</td>\n",
       "      <td>25243.5510</td>\n",
       "      <td>2304</td>\n",
       "      <td>288</td>\n",
       "      <td>...</td>\n",
       "      <td>6.247185e+08</td>\n",
       "      <td>630946624.0</td>\n",
       "      <td>1211690.50</td>\n",
       "      <td>151461.310</td>\n",
       "      <td>0.00</td>\n",
       "      <td>0.0</td>\n",
       "      <td>25243.551</td>\n",
       "      <td>25243.551</td>\n",
       "      <td>630946624.0</td>\n",
       "      <td>637236864.0</td>\n",
       "    </tr>\n",
       "    <tr>\n",
       "      <td>4</td>\n",
       "      <td>18</td>\n",
       "      <td>8</td>\n",
       "      <td>0</td>\n",
       "      <td>0</td>\n",
       "      <td>1</td>\n",
       "      <td>1</td>\n",
       "      <td>1669.2950</td>\n",
       "      <td>10727.6100</td>\n",
       "      <td>324</td>\n",
       "      <td>144</td>\n",
       "      <td>...</td>\n",
       "      <td>2.786546e+06</td>\n",
       "      <td>17907546.0</td>\n",
       "      <td>193096.98</td>\n",
       "      <td>85820.883</td>\n",
       "      <td>0.00</td>\n",
       "      <td>0.0</td>\n",
       "      <td>10727.610</td>\n",
       "      <td>10727.610</td>\n",
       "      <td>17907546.0</td>\n",
       "      <td>115081624.0</td>\n",
       "    </tr>\n",
       "    <tr>\n",
       "      <td>...</td>\n",
       "      <td>...</td>\n",
       "      <td>...</td>\n",
       "      <td>...</td>\n",
       "      <td>...</td>\n",
       "      <td>...</td>\n",
       "      <td>...</td>\n",
       "      <td>...</td>\n",
       "      <td>...</td>\n",
       "      <td>...</td>\n",
       "      <td>...</td>\n",
       "      <td>...</td>\n",
       "      <td>...</td>\n",
       "      <td>...</td>\n",
       "      <td>...</td>\n",
       "      <td>...</td>\n",
       "      <td>...</td>\n",
       "      <td>...</td>\n",
       "      <td>...</td>\n",
       "      <td>...</td>\n",
       "      <td>...</td>\n",
       "      <td>...</td>\n",
       "    </tr>\n",
       "    <tr>\n",
       "      <td>16172</td>\n",
       "      <td>33</td>\n",
       "      <td>12</td>\n",
       "      <td>1</td>\n",
       "      <td>0</td>\n",
       "      <td>1</td>\n",
       "      <td>0</td>\n",
       "      <td>20279.9490</td>\n",
       "      <td>10941.3500</td>\n",
       "      <td>1089</td>\n",
       "      <td>396</td>\n",
       "      <td>...</td>\n",
       "      <td>4.112764e+08</td>\n",
       "      <td>221890016.0</td>\n",
       "      <td>361064.53</td>\n",
       "      <td>131296.190</td>\n",
       "      <td>10941.35</td>\n",
       "      <td>0.0</td>\n",
       "      <td>10941.350</td>\n",
       "      <td>0.000</td>\n",
       "      <td>221890016.0</td>\n",
       "      <td>119713128.0</td>\n",
       "    </tr>\n",
       "    <tr>\n",
       "      <td>16173</td>\n",
       "      <td>25</td>\n",
       "      <td>14</td>\n",
       "      <td>1</td>\n",
       "      <td>0</td>\n",
       "      <td>1</td>\n",
       "      <td>0</td>\n",
       "      <td>35040.0700</td>\n",
       "      <td>11536.5700</td>\n",
       "      <td>625</td>\n",
       "      <td>350</td>\n",
       "      <td>...</td>\n",
       "      <td>1.227806e+09</td>\n",
       "      <td>404242240.0</td>\n",
       "      <td>288414.25</td>\n",
       "      <td>161511.980</td>\n",
       "      <td>11536.57</td>\n",
       "      <td>0.0</td>\n",
       "      <td>11536.570</td>\n",
       "      <td>0.000</td>\n",
       "      <td>404242240.0</td>\n",
       "      <td>133092456.0</td>\n",
       "    </tr>\n",
       "    <tr>\n",
       "      <td>16174</td>\n",
       "      <td>35</td>\n",
       "      <td>9</td>\n",
       "      <td>1</td>\n",
       "      <td>0</td>\n",
       "      <td>1</td>\n",
       "      <td>1</td>\n",
       "      <td>13602.4300</td>\n",
       "      <td>13830.6400</td>\n",
       "      <td>1225</td>\n",
       "      <td>315</td>\n",
       "      <td>...</td>\n",
       "      <td>1.850261e+08</td>\n",
       "      <td>188130304.0</td>\n",
       "      <td>484072.38</td>\n",
       "      <td>124475.760</td>\n",
       "      <td>13830.64</td>\n",
       "      <td>0.0</td>\n",
       "      <td>13830.640</td>\n",
       "      <td>13830.640</td>\n",
       "      <td>188130304.0</td>\n",
       "      <td>191286592.0</td>\n",
       "    </tr>\n",
       "    <tr>\n",
       "      <td>16175</td>\n",
       "      <td>35</td>\n",
       "      <td>8</td>\n",
       "      <td>1</td>\n",
       "      <td>0</td>\n",
       "      <td>1</td>\n",
       "      <td>1</td>\n",
       "      <td>13732.0700</td>\n",
       "      <td>17976.1500</td>\n",
       "      <td>1225</td>\n",
       "      <td>280</td>\n",
       "      <td>...</td>\n",
       "      <td>1.885698e+08</td>\n",
       "      <td>246849760.0</td>\n",
       "      <td>629165.25</td>\n",
       "      <td>143809.200</td>\n",
       "      <td>17976.15</td>\n",
       "      <td>0.0</td>\n",
       "      <td>17976.150</td>\n",
       "      <td>17976.150</td>\n",
       "      <td>246849760.0</td>\n",
       "      <td>323141984.0</td>\n",
       "    </tr>\n",
       "    <tr>\n",
       "      <td>16176</td>\n",
       "      <td>33</td>\n",
       "      <td>11</td>\n",
       "      <td>1</td>\n",
       "      <td>0</td>\n",
       "      <td>1</td>\n",
       "      <td>1</td>\n",
       "      <td>14660.7100</td>\n",
       "      <td>25142.2400</td>\n",
       "      <td>1089</td>\n",
       "      <td>363</td>\n",
       "      <td>...</td>\n",
       "      <td>2.149364e+08</td>\n",
       "      <td>368603104.0</td>\n",
       "      <td>829693.94</td>\n",
       "      <td>276564.660</td>\n",
       "      <td>25142.24</td>\n",
       "      <td>0.0</td>\n",
       "      <td>25142.240</td>\n",
       "      <td>25142.240</td>\n",
       "      <td>368603104.0</td>\n",
       "      <td>632132224.0</td>\n",
       "    </tr>\n",
       "  </tbody>\n",
       "</table>\n",
       "<p>16177 rows × 70 columns</p>\n",
       "</div>"
      ],
      "text/plain": [
       "       age  education  black  hispanic  married  nodegree        re74  \\\n",
       "0       45         11      0         0        1         1  21516.6700   \n",
       "1       21         14      0         0        0         0   3175.9709   \n",
       "2       38         12      0         0        1         0  23039.0200   \n",
       "3       48          6      0         0        1         1  24994.3690   \n",
       "4       18          8      0         0        1         1   1669.2950   \n",
       "...    ...        ...    ...       ...      ...       ...         ...   \n",
       "16172   33         12      1         0        1         0  20279.9490   \n",
       "16173   25         14      1         0        1         0  35040.0700   \n",
       "16174   35          9      1         0        1         1  13602.4300   \n",
       "16175   35          8      1         0        1         1  13732.0700   \n",
       "16176   33         11      1         0        1         1  14660.7100   \n",
       "\n",
       "             re75  age_age  age_education  ...     re74_re74    re74_re75  \\\n",
       "0      25243.5510     2025            495  ...  4.629671e+08  543157120.0   \n",
       "1       5852.5649      441            294  ...  1.008679e+07   18587576.0   \n",
       "2      25130.7600     1444            456  ...  5.307964e+08  578988096.0   \n",
       "3      25243.5510     2304            288  ...  6.247185e+08  630946624.0   \n",
       "4      10727.6100      324            144  ...  2.786546e+06   17907546.0   \n",
       "...           ...      ...            ...  ...           ...          ...   \n",
       "16172  10941.3500     1089            396  ...  4.112764e+08  221890016.0   \n",
       "16173  11536.5700      625            350  ...  1.227806e+09  404242240.0   \n",
       "16174  13830.6400     1225            315  ...  1.850261e+08  188130304.0   \n",
       "16175  17976.1500     1225            280  ...  1.885698e+08  246849760.0   \n",
       "16176  25142.2400     1089            363  ...  2.149364e+08  368603104.0   \n",
       "\n",
       "         re75_age  re75_education  re75_black  re75_hispanic  re75_married  \\\n",
       "0      1135959.80      277679.060        0.00            0.0     25243.551   \n",
       "1       122903.87       81935.906        0.00            0.0         0.000   \n",
       "2       954968.88      301569.130        0.00            0.0     25130.760   \n",
       "3      1211690.50      151461.310        0.00            0.0     25243.551   \n",
       "4       193096.98       85820.883        0.00            0.0     10727.610   \n",
       "...           ...             ...         ...            ...           ...   \n",
       "16172   361064.53      131296.190    10941.35            0.0     10941.350   \n",
       "16173   288414.25      161511.980    11536.57            0.0     11536.570   \n",
       "16174   484072.38      124475.760    13830.64            0.0     13830.640   \n",
       "16175   629165.25      143809.200    17976.15            0.0     17976.150   \n",
       "16176   829693.94      276564.660    25142.24            0.0     25142.240   \n",
       "\n",
       "       re75_nodegree    re75_re74    re75_re75  \n",
       "0          25243.551  543157120.0  637236864.0  \n",
       "1              0.000   18587576.0   34252516.0  \n",
       "2              0.000  578988096.0  631555072.0  \n",
       "3          25243.551  630946624.0  637236864.0  \n",
       "4          10727.610   17907546.0  115081624.0  \n",
       "...              ...          ...          ...  \n",
       "16172          0.000  221890016.0  119713128.0  \n",
       "16173          0.000  404242240.0  133092456.0  \n",
       "16174      13830.640  188130304.0  191286592.0  \n",
       "16175      17976.150  246849760.0  323141984.0  \n",
       "16176      25142.240  368603104.0  632132224.0  \n",
       "\n",
       "[16177 rows x 70 columns]"
      ]
     },
     "execution_count": 32,
     "metadata": {},
     "output_type": "execute_result"
    }
   ],
   "source": [
    "W"
   ]
  },
  {
   "cell_type": "code",
   "execution_count": 33,
   "metadata": {},
   "outputs": [
    {
     "name": "stdout",
     "output_type": "stream",
     "text": [
      "Coefficient Results:  X is None, please call intercept_inference to learn the constant!\n"
     ]
    },
    {
     "data": {
      "text/html": [
       "<table class=\"simpletable\">\n",
       "<caption>Intercept Results</caption>\n",
       "<tr>\n",
       "      <td></td>      <th>point_estimate</th>     <th>stderr</th>         <th>zstat</th>       <th>pvalue</th>       <th>ci_lower</th>        <th>ci_upper</th>    \n",
       "</tr>\n",
       "<tr>\n",
       "  <th>intercept</th> <td>758.3396247951</td> <td>609.4921193265</td> <td>1.2442156359</td> <td>0.2134202106</td> <td>-244.1856982774</td> <td>1760.8649478677</td>\n",
       "</tr>\n",
       "</table>"
      ],
      "text/plain": [
       "<class 'econml.utilities.Summary'>\n",
       "\"\"\"\n",
       "                                        Intercept Results                                        \n",
       "=================================================================================================\n",
       "          point_estimate     stderr        zstat        pvalue        ci_lower        ci_upper   \n",
       "-------------------------------------------------------------------------------------------------\n",
       "intercept 758.3396247951 609.4921193265 1.2442156359 0.2134202106 -244.1856982774 1760.8649478677\n",
       "-------------------------------------------------------------------------------------------------\n",
       "\"\"\""
      ]
     },
     "execution_count": 33,
     "metadata": {},
     "output_type": "execute_result"
    }
   ],
   "source": [
    "from econml.dml import LinearDMLCateEstimator\n",
    "from sklearn.linear_model import LogisticRegressionCV\n",
    "est = LinearDMLCateEstimator(model_t=GradientBoostingClassifier(n_estimators=100), \n",
    "                             model_y=GradientBoostingRegressor(n_estimators=100),\n",
    "                             discrete_treatment=True, random_state=20201002, n_splits = 5)\n",
    "est.fit(Y, T,None,W,  inference='statsmodels')\n",
    "est.summary(decimals=10)"
   ]
  },
  {
   "cell_type": "code",
   "execution_count": 35,
   "metadata": {},
   "outputs": [
    {
     "data": {
      "text/plain": [
       "(array([2, 2, 2]), array([0, 1, 2]))"
      ]
     },
     "execution_count": 35,
     "metadata": {},
     "output_type": "execute_result"
    }
   ],
   "source": [
    "x = np.arange(9.).reshape(3, 3)\n",
    "np.where( x > 5 )"
   ]
  },
  {
   "cell_type": "code",
   "execution_count": 36,
   "metadata": {},
   "outputs": [
    {
     "data": {
      "text/plain": [
       "array([[0., 1., 2.],\n",
       "       [3., 4., 5.],\n",
       "       [6., 7., 8.]])"
      ]
     },
     "execution_count": 36,
     "metadata": {},
     "output_type": "execute_result"
    }
   ],
   "source": [
    "x\n"
   ]
  },
  {
   "cell_type": "code",
   "execution_count": 37,
   "metadata": {},
   "outputs": [],
   "source": [
    "y=np.where( x > 5 )"
   ]
  },
  {
   "cell_type": "code",
   "execution_count": 38,
   "metadata": {},
   "outputs": [
    {
     "data": {
      "text/plain": [
       "(array([2, 2, 2]), array([0, 1, 2]))"
      ]
     },
     "execution_count": 38,
     "metadata": {},
     "output_type": "execute_result"
    }
   ],
   "source": [
    "y"
   ]
  },
  {
   "cell_type": "code",
   "execution_count": 40,
   "metadata": {},
   "outputs": [],
   "source": [
    "\n",
    "from sklearn.preprocessing import OneHotEncoder"
   ]
  },
  {
   "cell_type": "code",
   "execution_count": 42,
   "metadata": {},
   "outputs": [
    {
     "data": {
      "text/plain": [
       "OneHotEncoder(categorical_features=None, categories=None, drop=None,\n",
       "              dtype=<class 'numpy.float64'>, handle_unknown='ignore',\n",
       "              n_values=None, sparse=True)"
      ]
     },
     "execution_count": 42,
     "metadata": {},
     "output_type": "execute_result"
    }
   ],
   "source": [
    "enc = OneHotEncoder(handle_unknown='ignore')\n",
    "X = [['Male', 1], ['Female', 3], ['Female', 2]]\n",
    "enc.fit(X)\n",
    "\n"
   ]
  },
  {
   "cell_type": "code",
   "execution_count": 47,
   "metadata": {},
   "outputs": [
    {
     "data": {
      "text/plain": [
       "[['Male', 1], ['Female', 3], ['Female', 2]]"
      ]
     },
     "execution_count": 47,
     "metadata": {},
     "output_type": "execute_result"
    }
   ],
   "source": [
    "X"
   ]
  },
  {
   "cell_type": "code",
   "execution_count": 48,
   "metadata": {},
   "outputs": [
    {
     "data": {
      "text/plain": [
       "array([[1., 0., 1., 0., 0.],\n",
       "       [0., 1., 0., 0., 0.]])"
      ]
     },
     "execution_count": 48,
     "metadata": {},
     "output_type": "execute_result"
    }
   ],
   "source": [
    "enc.categories_\n",
    "enc.transform([['Female', 1], ['Male', 4]]).toarray()\n"
   ]
  },
  {
   "cell_type": "code",
   "execution_count": 45,
   "metadata": {},
   "outputs": [],
   "source": [
    "enc.transform([['Female', 1], ['Male', 4]]).toarray()\n",
    "\n",
    "\n",
    "enc.inverse_transform([[0, 1, 1, 0, 0], [0, 0, 0, 1, 0]])\n",
    "\n",
    "\n",
    "enc.get_feature_names(['gender', 'group'])"
   ]
  },
  {
   "cell_type": "code",
   "execution_count": 46,
   "metadata": {},
   "outputs": [
    {
     "data": {
      "text/plain": [
       "OneHotEncoder(categorical_features=None, categories=None, drop=None,\n",
       "              dtype=<class 'numpy.float64'>, handle_unknown='ignore',\n",
       "              n_values=None, sparse=True)"
      ]
     },
     "execution_count": 46,
     "metadata": {},
     "output_type": "execute_result"
    }
   ],
   "source": [
    "y"
   ]
  },
  {
   "cell_type": "code",
   "execution_count": null,
   "metadata": {},
   "outputs": [],
   "source": []
  }
 ],
 "metadata": {
  "kernelspec": {
   "display_name": "Python 3",
   "language": "python",
   "name": "python3"
  },
  "language_info": {
   "codemirror_mode": {
    "name": "ipython",
    "version": 3
   },
   "file_extension": ".py",
   "mimetype": "text/x-python",
   "name": "python",
   "nbconvert_exporter": "python",
   "pygments_lexer": "ipython3",
   "version": "3.7.4"
  }
 },
 "nbformat": 4,
 "nbformat_minor": 2
}
